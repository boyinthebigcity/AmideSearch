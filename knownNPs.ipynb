{
 "cells": [
  {
   "cell_type": "markdown",
   "metadata": {},
   "source": [
    "# Check for known NP sequences\n",
    "### Input: path to seqdump.txt file from BLAST search"
   ]
  },
  {
   "cell_type": "code",
   "execution_count": 129,
   "metadata": {},
   "outputs": [
    {
     "data": {
      "text/plain": [
       "[[''],\n",
       " ['XP_033626054.1 uncharacterized protein LOC117289165 ',\n",
       "  'MWFRGSFPPMTWAWFVLFAVLVAFAPGTMQQTSGVATLDLCQPNRVLPSYLQNACDQLLASMGTATSAMSDSGTRASPPDRRPLSDPPRYGRRNGGPPMTVHVSKRLYSLPTYKLFNGLRRRSGHHRLLDTNQSVNLLRRFASLINKFSLLENI'],\n",
       " ['XP_033634902.1 putative glycine-rich cell wall structural protein 1 ',\n",
       "  'MKSFLAITIIMGCMAFLEAGVLKQSSGEKQAALGDPFFDAGGTSNNGDGMGSPVIGAGGNAAAAAGGGNANDGGGDTPDGADPGTYGGYGGYNGYAGRSGTSHGYGGGRDGYRGTGRFDGYGTNPGGGGYGTGGYGRRYGTGGYGAGGDGSYRPRVEQRPARPYGAGDSVNSPNTREEKAKNPGQIVGSAGSTGTTVGIVIGVVALVGVAAGVAIFVIKRRN'],\n",
       " ['XP_033637995.1 FMRFamide-like neuropeptides 3 ',\n",
       "  'MMVRFVALLGAVSLLVCQSAGLDAADVEEQDEFNKPYAPDSSYADLNALLGNNVPSLHSASKRQQSDREREVEAAQTQFYPYGRRTDPRKASGGFTFGKRGQYFIPIPYEKREMDEVNPYSVAKRDDELTGLEEYQASKRSGPYSFNSGLTFGKREPEKRNIFGSYDFGKRAYGNNFSFGKRGMGVSSFSFGKRSGLEGEQMMPEDKRAFGDFSFGKRNNGLSSFTFGKREGER'],\n",
       " ['XP_033628291.1 nudix hydrolase 8-like ',\n",
       "  'MNSNIVENGGLIENANHLLCGKEDLFDGITLSTADEQWSSASEFGQRLQDSLEHWKSLSKRGVWLKIAIQHSELIPEAVKNKFVFHHAQPLYVMMTAWLPSNEPNQLPGYASNYIGVGGFVTNDKNELLVIKEKYTYGRRAIWKLPGGHADLDEELAATAKREVKEETGIDAEFVSIVCFRHQHKYKFNQSDIYFVCHMRALTNEIKTCPHEIAECRWMNLDEYLVDPDVTNFNKEITKRYLQNQKSNQSIQPDQLWSTFSNAYQLMYSIHAGKAD'],\n",
       " ['XP_033628312.1 DNA oxidative demethylase ALKBH2-like ',\n",
       "  'MEKYLGRVLPPTIKTSPCKNDIVKKHGGGLNFLFKRKFVTEQNPNSARKTGGDICPPSKRQKEDVSQESPTILRPLCQPSWRKISAENLSCDYTKLYGRREAKELFDHCEGGGLQYFTGELTKVQVFGKWHSIPRKQVAHGDANLTYKYSGVTVPAKPWTSSLNKIRNRIEEVTGHRFNFVLINRYKDGNDYMGEHRDDEKELVPTSPIASLSLGQPRDFIFRHGESRGKNAKRKLSPIKIELENGSLLMMNYPTNFHWYHSLPVRKKAHGVRINMTFRCLKT'],\n",
       " ['XP_033629242.1 proteasome subunit alpha type-1-like ',\n",
       "  'MFRNQYDNDVTVWSPQGRIHQIEYAMEAVKQGSATVGLKSKTHAVLVALKRASSELSAHQKKIIPIDDHIGISIAGLTSDARLLSKFMRTECLNSRYAFDAPLPVSRMVGMIGNKSQVNTQRYGRRPFGVGLLVAGFDEKGPHIYQTCPSANYFECKSMAIGARSQSARTYLEKHMNEFLDCTQEELVKHGLRALRDTLPNETELSTKNCSVAIVGENQKFTVYENDEVAAYLSGIEASARAKRAAAAAAAGDDKPASQPDAAAPMDTEGTEGTPATAAAEEDKPTPMEQQ'],\n",
       " ['XP_033629320.1 tRNA wybutosine-synthesizing protein 5-like ',\n",
       "  'MAESVRIFEGVDKDLFTSDIYPQRKPAVLRGLDIGECKTKWTEEYLCKCVGSQEVKVHVSPSANMDFVNKNYAYRTLPFDKFLRRAAQSKHDEFFFEPDEKYYFRALGGDPRKEPADITKQFPSLAPDVTIPQFFEADTMFSTILRLGSAGVQLWTHYDIMDNLLIQISGHKRVVFFSPQDATNLYLTGDKSAVLDIENPDFSRYPAFRHARPMECHLQPGDVLFIPALWFHNVRSLDFSVAVNVFFRHLEANCYDTKDPYGNKDPQAAARALQILNRALKCLEELPDNYRDFYGRRMVSQIESKVYLKS'],\n",
       " ['XP_033631764.1 tyramine receptor Ser-2-like ',\n",
       "  'MISAPNETVTDNGPNINQVEVIIYVVILIFESTVSMLGGVLVCLTFISVRTTSCKPTSKLIVNLAVSDAAMGALVLPFTAVTVSNQAWIFGDVMCQIEGFIKTFLSQVQRSTLLLIAVDRLLRIKFRFSYGRRSHTMVYPILIMWIMNIPLAVPPLFGWSEFKWEPHKPSCTVDWLASLSYSITFLTVFGFILQGVITVCYMLIFREVRASRLRVQAAVVDHGGRVDRLGANMTPSPRHPHSNIFMTKDEIAIARTMIVLVILSSILSLPYIISHLISLIRNSPLSYRNEMTTTILVYLNNCLNPVIYGVTNSRFRQGFKTVLRWQNA'],\n",
       " ['XP_033636983.1 store-operated calcium entry-associated regulatory factor-like ',\n",
       "  'MAILRCLQVLLLGIFVNDISAAFGFGGGKDKVILNDVKVLTLRADHMTTGRRSSPVPQLKCIGGSAGCSAFKPQVVQCRNQGSDGYDIQWECKTDMDNEYRFGRIEVTCEGYSHPDDEFILKGSCGLEYTLDLTKEGTQKSGYQRQHSYYGNDGYHSNSYSYKKSSGIGDWITLAIIGVIIYGIYRTCIATSTNDPDNPDDGYPRPAGHGTGAGGNPPPPGFRPGYGGSDSCSGSRGGGYGAGRGAGGGVGGGGFWSGAATGGMLGYLFGSRGNRGYGYGAPTYGRRGYGNSGFFGGGGGGGGFGGGGFSGGGSTGTRTSSGFGGTRRR'],\n",
       " ['XP_033635697.1 uncharacterized protein LOC117296762 ',\n",
       "  'MTEVDTHFYDSQLQNICSFNMPDDDAVRNIPDSRKISSLENNADFEGGLFRQDRAYNGPFDHAAESELCSVKNQFQEDEFRLEKFSASADFLESERTKCSSPSSQNNNIEKQGPVVCESVDVPVSYQVHGLKQHEMPVIGFHVDQRIMPGFKYRVRVLNTSSNIAQQTSSPARHQFNGQALHLLRIGQGYGRRLTFTGSLNDNPNFFWSDSDPSGYAFSMVAVDAGDQMVLTDLARRPIGRGTVEEVGPCQTELGTEITKDKTIIKRISVIMKVLLRYSCERHGMRSIRANETVIVRGVARVVKHAGKSQAFTKCIEQIELPIQGECMLYML']]"
      ]
     },
     "execution_count": 129,
     "metadata": {},
     "output_type": "execute_result"
    }
   ],
   "source": [
    "sequenceFileName = input(\"Enter path name for the sequence file: \")\n",
    "if \"seqdump\" in sequenceFileName:\n",
    "    sequenceFile = open(sequenceFileName, \"r\")\n",
    "else:\n",
    "    print(\"The file you provided does not seem to be the FASTA (completesequence) file.\")\n",
    "    exit()\n",
    "sequencesread = sequenceFile.read()\n",
    "sequenceRep = sequencesread.replace('\\n','')\n",
    "sequences = sequenceRep.split('>')\n",
    "for i in sequences:\n",
    "    sequences[sequences.index(i)]=i.split('[Asterias rubens]')\n",
    "sequences\n"
   ]
  },
  {
   "cell_type": "code",
   "execution_count": 130,
   "metadata": {},
   "outputs": [],
   "source": [
    "knownNPfilename = input(\"Enter path name for the known sequences file: \")\n",
    "knownNPFile = open(knownNPfilename, \"r\")\n",
    "knownNPsplit = knownNPFile.read()\n",
    "knownNPp = knownNPsplit.replace('\\n','')\n",
    "knownNPs = knownNPp.split('>')\n",
    "for i in knownNPs:\n",
    "    knownNPs[knownNPs.index(i)]=i.split('[Asterias rubens]')\n",
    "knownNPs_cleaned = knownNPs[1:]\n",
    "sequences_cleaned = sequences[1:]"
   ]
  },
  {
   "cell_type": "code",
   "execution_count": 131,
   "metadata": {},
   "outputs": [
    {
     "name": "stdout",
     "output_type": "stream",
     "text": [
      "\u001b[31mThere are no known neuropeptides in the seqdump file.\u001b[0m\n"
     ]
    }
   ],
   "source": [
    "foundNPs = []\n",
    "for NP in knownNPs_cleaned:\n",
    "    for sequence in sequences_cleaned:\n",
    "        if NP[1] in sequence[1]:\n",
    "            foundNPs.append(NP[0])\n",
    "            print(\"Found:\",NP[0], \"in\", sequence[0],sep=\" \")\n",
    "\n",
    "class Style():\n",
    "  RED = \"\\033[31m\"\n",
    "  GREEN = \"\\033[32m\"\n",
    "  YELLOW = \"\\033[33m\"\n",
    "  BLUE = \"\\033[34m\"\n",
    "  RESET = \"\\033[0m\"\n",
    "\n",
    "if len(foundNPs) > 0:\n",
    "    print(f\"{Style.GREEN}Yay!{Style.RESET}\",\"There are a total of\",len(foundNPs),\"known neuropeptides found in the seqdump file.\", sep=\" \")\n",
    "else:\n",
    "    print(f\"{Style.RED}There are no known neuropeptides in the seqdump file.{Style.RESET}\")"
   ]
  },
  {
   "cell_type": "markdown",
   "metadata": {},
   "source": []
  },
  {
   "cell_type": "code",
   "execution_count": 144,
   "metadata": {},
   "outputs": [],
   "source": [
    "# Create .txt file with all 80 C-terminal cleavage site combinations\n",
    "cleaveOptions = (\"KK\",\"KR\",\"RK\",\"RR\")\n",
    "aminoAcids = (\"A\",\"C\",\"D\",\"E\",\"F\",\"G\",\"H\",\"I\",\"K\",\"L\",\"M\",\"N\",\"P\",\"Q\",\"R\",\"S\",\"T\",\"V\",\"W\",\"Y\")\n",
    "allCombos = []\n",
    "for a in aminoAcids:\n",
    "    for i in cleaveOptions:\n",
    "        allCombos.append(a+\"G\"+i)\n",
    "with open(\"allcombos.txt\", 'w') as file:\n",
    "        for row in allCombos:\n",
    "            s = \"\".join(map(str, row))\n",
    "            file.write(s+'\\n')"
   ]
  },
  {
   "cell_type": "code",
   "execution_count": 150,
   "metadata": {},
   "outputs": [],
   "source": [
    "rangeString = \"=\"\n",
    "for i in allCombos:\n",
    "    if allCombos.index(i) < len(allCombos)-1:\n",
    "        rangeString = rangeString+'COUNTIF('+i+'!J2:J100, \">= 0.500\")+'\n",
    "    else:\n",
    "        rangeString = rangeString+'COUNTIF('+i+'!J2:J100, \">= 0.500\")'\n",
    "with open(\"ExcelFormulaSignalP.txt\", 'w') as file:\n",
    "    file.write(rangeString)"
   ]
  },
  {
   "cell_type": "code",
   "execution_count": 149,
   "metadata": {},
   "outputs": [],
   "source": [
    "rangeString = \"(\"\n",
    "for i in allCombos:\n",
    "    if allCombos.index(i) < len(allCombos)-1:\n",
    "        rangeString = rangeString+i+'!B2:B100, '\n",
    "    else:\n",
    "        rangeString = rangeString+i+'!B2:B100)'\n",
    "with open(\"ExcelRangeAccession.txt\", 'w') as file:\n",
    "    file.write(rangeString)"
   ]
  },
  {
   "cell_type": "code",
   "execution_count": null,
   "metadata": {},
   "outputs": [],
   "source": []
  }
 ],
 "metadata": {
  "kernelspec": {
   "display_name": "l2d",
   "language": "python",
   "name": "python3"
  },
  "language_info": {
   "codemirror_mode": {
    "name": "ipython",
    "version": 3
   },
   "file_extension": ".py",
   "mimetype": "text/x-python",
   "name": "python",
   "nbconvert_exporter": "python",
   "pygments_lexer": "ipython3",
   "version": "3.11.5"
  }
 },
 "nbformat": 4,
 "nbformat_minor": 2
}
